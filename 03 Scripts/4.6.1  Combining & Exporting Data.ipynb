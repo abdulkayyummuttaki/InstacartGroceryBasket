{
 "cells": [
  {
   "cell_type": "markdown",
   "id": "87bcda71",
   "metadata": {},
   "source": [
    "### Read data set 1"
   ]
  },
  {
   "cell_type": "code",
   "execution_count": 2,
   "id": "f368c164",
   "metadata": {},
   "outputs": [],
   "source": [
    "\n",
    "#Import the pandas, NumPy, and os libraries\n",
    "import pandas as pd\n",
    "import os\n",
    "\n",
    "\n",
    "path = r'C:\\\\Users\\\\mutta\\\\Documents\\\\Project 4\\\\' \n",
    "\n",
    "order_CSV = os.path.join(path, '02 Data', 'Prepared Data', 'orders_checked.csv')\n",
    "\n",
    "df_orders = pd.read_csv(order_CSV, index_col = False)\n"
   ]
  },
  {
   "cell_type": "code",
   "execution_count": 2,
   "id": "bdf210a4",
   "metadata": {},
   "outputs": [],
   "source": [
    "\n",
    "pd.options.display.float_format = '{:.2f}'.format\n",
    "\n",
    "class color:\n",
    "   PURPLE = '\\033[95m'\n",
    "   CYAN = '\\033[96m'\n",
    "   DARKCYAN = '\\033[36m'\n",
    "   BLUE = '\\033[94m'\n",
    "   GREEN = '\\033[92m'\n",
    "   YELLOW = '\\033[93m'\n",
    "   RED = '\\033[91m'\n",
    "   BOLD = '\\033[1m'\n",
    "   UNDERLINE = '\\033[4m'\n",
    "   END = '\\033[0m'\n"
   ]
  },
  {
   "cell_type": "code",
   "execution_count": 6,
   "id": "83024a84",
   "metadata": {},
   "outputs": [
    {
     "data": {
      "text/html": [
       "<div>\n",
       "<style scoped>\n",
       "    .dataframe tbody tr th:only-of-type {\n",
       "        vertical-align: middle;\n",
       "    }\n",
       "\n",
       "    .dataframe tbody tr th {\n",
       "        vertical-align: top;\n",
       "    }\n",
       "\n",
       "    .dataframe thead th {\n",
       "        text-align: right;\n",
       "    }\n",
       "</style>\n",
       "<table border=\"1\" class=\"dataframe\">\n",
       "  <thead>\n",
       "    <tr style=\"text-align: right;\">\n",
       "      <th></th>\n",
       "      <th>order_id</th>\n",
       "      <th>user_id</th>\n",
       "      <th>order_number</th>\n",
       "      <th>orders_day_of_week</th>\n",
       "      <th>order_hour_of_day</th>\n",
       "      <th>days_since_prior_order</th>\n",
       "    </tr>\n",
       "  </thead>\n",
       "  <tbody>\n",
       "    <tr>\n",
       "      <th>count</th>\n",
       "      <td>3421083.00</td>\n",
       "      <td>3421083.00</td>\n",
       "      <td>3421083.00</td>\n",
       "      <td>3421083.00</td>\n",
       "      <td>3421083.00</td>\n",
       "      <td>3421083.00</td>\n",
       "    </tr>\n",
       "    <tr>\n",
       "      <th>mean</th>\n",
       "      <td>1710542.00</td>\n",
       "      <td>102978.21</td>\n",
       "      <td>17.15</td>\n",
       "      <td>2.78</td>\n",
       "      <td>13.45</td>\n",
       "      <td>10.44</td>\n",
       "    </tr>\n",
       "    <tr>\n",
       "      <th>std</th>\n",
       "      <td>987581.74</td>\n",
       "      <td>59533.72</td>\n",
       "      <td>17.73</td>\n",
       "      <td>2.05</td>\n",
       "      <td>4.23</td>\n",
       "      <td>9.31</td>\n",
       "    </tr>\n",
       "    <tr>\n",
       "      <th>min</th>\n",
       "      <td>1.00</td>\n",
       "      <td>1.00</td>\n",
       "      <td>1.00</td>\n",
       "      <td>0.00</td>\n",
       "      <td>0.00</td>\n",
       "      <td>0.00</td>\n",
       "    </tr>\n",
       "    <tr>\n",
       "      <th>25%</th>\n",
       "      <td>855271.50</td>\n",
       "      <td>51394.00</td>\n",
       "      <td>5.00</td>\n",
       "      <td>1.00</td>\n",
       "      <td>10.00</td>\n",
       "      <td>4.00</td>\n",
       "    </tr>\n",
       "    <tr>\n",
       "      <th>50%</th>\n",
       "      <td>1710542.00</td>\n",
       "      <td>102689.00</td>\n",
       "      <td>11.00</td>\n",
       "      <td>3.00</td>\n",
       "      <td>13.00</td>\n",
       "      <td>7.00</td>\n",
       "    </tr>\n",
       "    <tr>\n",
       "      <th>75%</th>\n",
       "      <td>2565812.50</td>\n",
       "      <td>154385.00</td>\n",
       "      <td>23.00</td>\n",
       "      <td>5.00</td>\n",
       "      <td>16.00</td>\n",
       "      <td>15.00</td>\n",
       "    </tr>\n",
       "    <tr>\n",
       "      <th>max</th>\n",
       "      <td>3421083.00</td>\n",
       "      <td>206209.00</td>\n",
       "      <td>100.00</td>\n",
       "      <td>6.00</td>\n",
       "      <td>23.00</td>\n",
       "      <td>30.00</td>\n",
       "    </tr>\n",
       "  </tbody>\n",
       "</table>\n",
       "</div>"
      ],
      "text/plain": [
       "        order_id    user_id  order_number  orders_day_of_week  \\\n",
       "count 3421083.00 3421083.00    3421083.00          3421083.00   \n",
       "mean  1710542.00  102978.21         17.15                2.78   \n",
       "std    987581.74   59533.72         17.73                2.05   \n",
       "min         1.00       1.00          1.00                0.00   \n",
       "25%    855271.50   51394.00          5.00                1.00   \n",
       "50%   1710542.00  102689.00         11.00                3.00   \n",
       "75%   2565812.50  154385.00         23.00                5.00   \n",
       "max   3421083.00  206209.00        100.00                6.00   \n",
       "\n",
       "       order_hour_of_day  days_since_prior_order  \n",
       "count         3421083.00              3421083.00  \n",
       "mean               13.45                   10.44  \n",
       "std                 4.23                    9.31  \n",
       "min                 0.00                    0.00  \n",
       "25%                10.00                    4.00  \n",
       "50%                13.00                    7.00  \n",
       "75%                16.00                   15.00  \n",
       "max                23.00                   30.00  "
      ]
     },
     "execution_count": 6,
     "metadata": {},
     "output_type": "execute_result"
    }
   ],
   "source": [
    "\n",
    "pd.options.display.float_format = '{:.2f}'.format\n",
    "df_orders.round(2)\n",
    "df_orders.describe()\n",
    "\n"
   ]
  },
  {
   "cell_type": "markdown",
   "id": "e333378b",
   "metadata": {},
   "source": [
    "### Read data set 2"
   ]
  },
  {
   "cell_type": "code",
   "execution_count": 7,
   "id": "fb9345ba",
   "metadata": {
    "scrolled": true
   },
   "outputs": [
    {
     "data": {
      "text/html": [
       "<div>\n",
       "<style scoped>\n",
       "    .dataframe tbody tr th:only-of-type {\n",
       "        vertical-align: middle;\n",
       "    }\n",
       "\n",
       "    .dataframe tbody tr th {\n",
       "        vertical-align: top;\n",
       "    }\n",
       "\n",
       "    .dataframe thead th {\n",
       "        text-align: right;\n",
       "    }\n",
       "</style>\n",
       "<table border=\"1\" class=\"dataframe\">\n",
       "  <thead>\n",
       "    <tr style=\"text-align: right;\">\n",
       "      <th></th>\n",
       "      <th>order_id</th>\n",
       "      <th>product_id</th>\n",
       "      <th>add_to_cart_order</th>\n",
       "      <th>reordered</th>\n",
       "    </tr>\n",
       "  </thead>\n",
       "  <tbody>\n",
       "    <tr>\n",
       "      <th>count</th>\n",
       "      <td>32434489.00</td>\n",
       "      <td>32434489.00</td>\n",
       "      <td>32434489.00</td>\n",
       "      <td>32434489.00</td>\n",
       "    </tr>\n",
       "    <tr>\n",
       "      <th>mean</th>\n",
       "      <td>1710748.52</td>\n",
       "      <td>25576.34</td>\n",
       "      <td>8.35</td>\n",
       "      <td>0.59</td>\n",
       "    </tr>\n",
       "    <tr>\n",
       "      <th>std</th>\n",
       "      <td>987300.70</td>\n",
       "      <td>14096.69</td>\n",
       "      <td>7.13</td>\n",
       "      <td>0.49</td>\n",
       "    </tr>\n",
       "    <tr>\n",
       "      <th>min</th>\n",
       "      <td>2.00</td>\n",
       "      <td>1.00</td>\n",
       "      <td>1.00</td>\n",
       "      <td>0.00</td>\n",
       "    </tr>\n",
       "    <tr>\n",
       "      <th>25%</th>\n",
       "      <td>855943.00</td>\n",
       "      <td>13530.00</td>\n",
       "      <td>3.00</td>\n",
       "      <td>0.00</td>\n",
       "    </tr>\n",
       "    <tr>\n",
       "      <th>50%</th>\n",
       "      <td>1711048.00</td>\n",
       "      <td>25256.00</td>\n",
       "      <td>6.00</td>\n",
       "      <td>1.00</td>\n",
       "    </tr>\n",
       "    <tr>\n",
       "      <th>75%</th>\n",
       "      <td>2565514.00</td>\n",
       "      <td>37935.00</td>\n",
       "      <td>11.00</td>\n",
       "      <td>1.00</td>\n",
       "    </tr>\n",
       "    <tr>\n",
       "      <th>max</th>\n",
       "      <td>3421083.00</td>\n",
       "      <td>49688.00</td>\n",
       "      <td>145.00</td>\n",
       "      <td>1.00</td>\n",
       "    </tr>\n",
       "  </tbody>\n",
       "</table>\n",
       "</div>"
      ],
      "text/plain": [
       "         order_id  product_id  add_to_cart_order   reordered\n",
       "count 32434489.00 32434489.00        32434489.00 32434489.00\n",
       "mean   1710748.52    25576.34               8.35        0.59\n",
       "std     987300.70    14096.69               7.13        0.49\n",
       "min          2.00        1.00               1.00        0.00\n",
       "25%     855943.00    13530.00               3.00        0.00\n",
       "50%    1711048.00    25256.00               6.00        1.00\n",
       "75%    2565514.00    37935.00              11.00        1.00\n",
       "max    3421083.00    49688.00             145.00        1.00"
      ]
     },
     "execution_count": 7,
     "metadata": {},
     "output_type": "execute_result"
    }
   ],
   "source": [
    "\n",
    "df_ords_prior_CSV = os.path.join(path, '02 Data', 'Original Data','order_products__prior', 'order_products__prior.csv')\n",
    "df_ords_prior = pd.read_csv(df_ords_prior_CSV, index_col = False)\n",
    "df_ords_prior.describe()\n"
   ]
  },
  {
   "cell_type": "code",
   "execution_count": 10,
   "id": "5d3ce1cf",
   "metadata": {},
   "outputs": [
    {
     "name": "stdout",
     "output_type": "stream",
     "text": [
      "order_id             0\n",
      "product_id           0\n",
      "add_to_cart_order    0\n",
      "reordered            0\n",
      "dtype: int64\n",
      "Empty DataFrame\n",
      "Columns: [order_id, product_id, add_to_cart_order, reordered]\n",
      "Index: []\n",
      "Empty DataFrame\n",
      "Columns: [order_id, product_id, add_to_cart_order, reordered]\n",
      "Index: []\n"
     ]
    }
   ],
   "source": [
    "print(df_ords_prior.isnull().sum())\n",
    "\n",
    "df_ords_dups = df_ords_prior[df_ords_prior.duplicated()]\n",
    "print(df_ords_dups)\n",
    "\n",
    "df_ords_dups = df_ords_prior[df_ords_prior[['order_id','product_id']].duplicated()]\n",
    "print(df_ords_dups)"
   ]
  },
  {
   "cell_type": "markdown",
   "id": "f4568155",
   "metadata": {},
   "source": [
    "### Merge data sets"
   ]
  },
  {
   "cell_type": "code",
   "execution_count": 5,
   "id": "b1dd4bc5",
   "metadata": {},
   "outputs": [
    {
     "name": "stdout",
     "output_type": "stream",
     "text": [
      "Merging data set...\n",
      "------------------------------------\n",
      "         order_id     user_id  order_number  orders_day_of_week  \\\n",
      "count 32434489.00 32434489.00   32434489.00         32434489.00   \n",
      "mean   1710748.52   102937.24         17.14                2.74   \n",
      "std     987300.70    59466.48         17.54                2.09   \n",
      "min          2.00        1.00          1.00                0.00   \n",
      "25%     855943.00    51421.00          5.00                1.00   \n",
      "50%    1711048.00   102611.00         11.00                3.00   \n",
      "75%    2565514.00   154391.00         24.00                5.00   \n",
      "max    3421083.00   206209.00         99.00                6.00   \n",
      "\n",
      "       order_hour_of_day  days_since_prior_order  product_id  \\\n",
      "count        32434489.00             32434489.00 32434489.00   \n",
      "mean               13.42                   10.39    25576.34   \n",
      "std                 4.25                    8.92    14096.69   \n",
      "min                 0.00                    0.00        1.00   \n",
      "25%                10.00                    4.00    13530.00   \n",
      "50%                13.00                    7.00    25256.00   \n",
      "75%                16.00                   14.00    37935.00   \n",
      "max                23.00                   30.00    49688.00   \n",
      "\n",
      "       add_to_cart_order   reordered  \n",
      "count        32434489.00 32434489.00  \n",
      "mean                8.35        0.59  \n",
      "std                 7.13        0.49  \n",
      "min                 1.00        0.00  \n",
      "25%                 3.00        0.00  \n",
      "50%                 6.00        1.00  \n",
      "75%                11.00        1.00  \n",
      "max               145.00        1.00  \n",
      "------------------------------------\n",
      "   order_id  user_id  order_number  orders_day_of_week  order_hour_of_day  \\\n",
      "0   2539329        1             1                   2                  8   \n",
      "1   2539329        1             1                   2                  8   \n",
      "2   2539329        1             1                   2                  8   \n",
      "3   2539329        1             1                   2                  8   \n",
      "4   2539329        1             1                   2                  8   \n",
      "5   2398795        1             2                   3                  7   \n",
      "6   2398795        1             2                   3                  7   \n",
      "7   2398795        1             2                   3                  7   \n",
      "8   2398795        1             2                   3                  7   \n",
      "9   2398795        1             2                   3                  7   \n",
      "\n",
      "   days_since_prior_order  product_id  add_to_cart_order  reordered _merge  \n",
      "0                    0.00         196                  1          0   both  \n",
      "1                    0.00       14084                  2          0   both  \n",
      "2                    0.00       12427                  3          0   both  \n",
      "3                    0.00       26088                  4          0   both  \n",
      "4                    0.00       26405                  5          0   both  \n",
      "5                   15.00         196                  1          1   both  \n",
      "6                   15.00       10258                  2          0   both  \n",
      "7                   15.00       12427                  3          1   both  \n",
      "8                   15.00       13176                  4          0   both  \n",
      "9                   15.00       26088                  5          1   both  \n",
      "------------------------------------\n"
     ]
    }
   ],
   "source": [
    "print('Merging data set...')\n",
    "df_merged_large = df_orders.merge(df_ords_prior, on = 'order_id', indicator = True)\n",
    "\n",
    "print('------------------------------------')\n",
    "print(df_merged_large.describe())\n",
    "\n",
    "print('------------------------------------')\n",
    "print(df_merged_large.head(10))\n",
    "print('------------------------------------')"
   ]
  },
  {
   "cell_type": "code",
   "execution_count": 6,
   "id": "1148b3b5",
   "metadata": {},
   "outputs": [
    {
     "name": "stdout",
     "output_type": "stream",
     "text": [
      "both          32434489\n",
      "left_only            0\n",
      "right_only           0\n",
      "Name: _merge, dtype: int64\n",
      "\n",
      "\n",
      "Number of rows in combined order product: 32434489\n",
      "Number of columns in combined order product: 10\n",
      "\u001b[94mTotal Number unmatched order ids: 0\n"
     ]
    }
   ],
   "source": [
    "\n",
    "\n",
    "print(df_merged_large['_merge'].value_counts())\n",
    "\n",
    "print('\\n\\nNumber of rows in combined order product:', df_merged_large.shape[0])\n",
    "print('Number of columns in combined order product:', df_merged_large.shape[1])\n",
    "\n",
    "\n",
    "print(color.BLUE + \n",
    "      'Total Number unmatched order ids:',  df_ords_prior.shape[0] - df_merged_large.shape[0] )\n"
   ]
  },
  {
   "cell_type": "markdown",
   "id": "c9a8e0ac",
   "metadata": {},
   "source": [
    "### export merged data sets to pkl file"
   ]
  },
  {
   "cell_type": "code",
   "execution_count": 7,
   "id": "87c28aa2",
   "metadata": {},
   "outputs": [
    {
     "name": "stdout",
     "output_type": "stream",
     "text": [
      "Data exported successfully\n"
     ]
    }
   ],
   "source": [
    "\n",
    "\n",
    "df_merged_large.to_pickle(os.path.join(path, '02 Data','Prepared Data', 'orders_products_combined.pkl'))\n",
    "\n",
    "print('Data exported successfully')"
   ]
  }
 ],
 "metadata": {
  "kernelspec": {
   "display_name": "Python 3 (ipykernel)",
   "language": "python",
   "name": "python3"
  },
  "language_info": {
   "codemirror_mode": {
    "name": "ipython",
    "version": 3
   },
   "file_extension": ".py",
   "mimetype": "text/x-python",
   "name": "python",
   "nbconvert_exporter": "python",
   "pygments_lexer": "ipython3",
   "version": "3.10.9"
  }
 },
 "nbformat": 4,
 "nbformat_minor": 5
}
