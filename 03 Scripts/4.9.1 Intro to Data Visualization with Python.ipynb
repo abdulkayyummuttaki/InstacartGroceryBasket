{
 "cells": [
  {
   "cell_type": "markdown",
   "id": "b508d88e",
   "metadata": {},
   "source": [
    "\n",
    "# (Part 1) 4.9 Intro to Data Visualization with Python\n"
   ]
  },
  {
   "cell_type": "code",
   "execution_count": 6,
   "id": "d7355206",
   "metadata": {},
   "outputs": [],
   "source": [
    "import pandas as pd\n",
    "import numpy as np\n",
    "import pandas as pd\n",
    "import numpy as np\n",
    "import os\n",
    "import matplotlib.pyplot as plt\n",
    "import seaborn as sns\n",
    "import scipy\n",
    "\n",
    "pd.options.display.float_format = '{:.2f}'.format\n",
    "\n",
    "class color:\n",
    "   PURPLE = '\\033[95m'\n",
    "   CYAN = '\\033[96m'\n",
    "   DARKCYAN = '\\033[36m'\n",
    "   BLUE = '\\033[94m'\n",
    "   GREEN = '\\033[92m'\n",
    "   YELLOW = '\\033[93m'\n",
    "   RED = '\\033[91m'\n",
    "   BOLD = '\\033[1m'\n",
    "   UNDERLINE = '\\033[4m'\n",
    "   END = '\\033[0m'"
   ]
  },
  {
   "cell_type": "code",
   "execution_count": 3,
   "id": "91394331",
   "metadata": {},
   "outputs": [
    {
     "name": "stdout",
     "output_type": "stream",
     "text": [
      "\u001b[94mRead orders_products_classified.pkl file\u001b[0m\n"
     ]
    },
    {
     "data": {
      "text/html": [
       "<div>\n",
       "<style scoped>\n",
       "    .dataframe tbody tr th:only-of-type {\n",
       "        vertical-align: middle;\n",
       "    }\n",
       "\n",
       "    .dataframe tbody tr th {\n",
       "        vertical-align: top;\n",
       "    }\n",
       "\n",
       "    .dataframe thead th {\n",
       "        text-align: right;\n",
       "    }\n",
       "</style>\n",
       "<table border=\"1\" class=\"dataframe\">\n",
       "  <thead>\n",
       "    <tr style=\"text-align: right;\">\n",
       "      <th></th>\n",
       "      <th>order_id</th>\n",
       "      <th>user_id</th>\n",
       "      <th>order_number</th>\n",
       "      <th>orders_day_of_week</th>\n",
       "      <th>order_hour_of_day</th>\n",
       "      <th>days_since_prior_order</th>\n",
       "      <th>product_id</th>\n",
       "      <th>add_to_cart_order</th>\n",
       "      <th>reordered</th>\n",
       "      <th>product_name</th>\n",
       "      <th>...</th>\n",
       "      <th>price_label</th>\n",
       "      <th>busiest_day</th>\n",
       "      <th>busy_days_of_the_week</th>\n",
       "      <th>busiest_period_of_day</th>\n",
       "      <th>max_order</th>\n",
       "      <th>loyalty_flag</th>\n",
       "      <th>max_product_orders</th>\n",
       "      <th>spending_flag</th>\n",
       "      <th>median_of_frequency</th>\n",
       "      <th>frequency_flag</th>\n",
       "    </tr>\n",
       "  </thead>\n",
       "  <tbody>\n",
       "    <tr>\n",
       "      <th>0</th>\n",
       "      <td>2539329</td>\n",
       "      <td>1</td>\n",
       "      <td>1</td>\n",
       "      <td>2</td>\n",
       "      <td>8</td>\n",
       "      <td>0.00</td>\n",
       "      <td>196</td>\n",
       "      <td>1</td>\n",
       "      <td>0</td>\n",
       "      <td>Soda</td>\n",
       "      <td>...</td>\n",
       "      <td>Mid-range product</td>\n",
       "      <td>Regularly busy</td>\n",
       "      <td>Regular days</td>\n",
       "      <td>Average orders</td>\n",
       "      <td>10</td>\n",
       "      <td>New customer</td>\n",
       "      <td>6.37</td>\n",
       "      <td>Low spender</td>\n",
       "      <td>20.00</td>\n",
       "      <td>Regular customer</td>\n",
       "    </tr>\n",
       "    <tr>\n",
       "      <th>1</th>\n",
       "      <td>2539329</td>\n",
       "      <td>1</td>\n",
       "      <td>1</td>\n",
       "      <td>2</td>\n",
       "      <td>8</td>\n",
       "      <td>0.00</td>\n",
       "      <td>14084</td>\n",
       "      <td>2</td>\n",
       "      <td>0</td>\n",
       "      <td>Organic Unsweetened Vanilla Almond Milk</td>\n",
       "      <td>...</td>\n",
       "      <td>Mid-range product</td>\n",
       "      <td>Regularly busy</td>\n",
       "      <td>Regular days</td>\n",
       "      <td>Average orders</td>\n",
       "      <td>10</td>\n",
       "      <td>New customer</td>\n",
       "      <td>6.37</td>\n",
       "      <td>Low spender</td>\n",
       "      <td>20.00</td>\n",
       "      <td>Regular customer</td>\n",
       "    </tr>\n",
       "    <tr>\n",
       "      <th>2</th>\n",
       "      <td>2539329</td>\n",
       "      <td>1</td>\n",
       "      <td>1</td>\n",
       "      <td>2</td>\n",
       "      <td>8</td>\n",
       "      <td>0.00</td>\n",
       "      <td>12427</td>\n",
       "      <td>3</td>\n",
       "      <td>0</td>\n",
       "      <td>Original Beef Jerky</td>\n",
       "      <td>...</td>\n",
       "      <td>Low-range product</td>\n",
       "      <td>Regularly busy</td>\n",
       "      <td>Regular days</td>\n",
       "      <td>Average orders</td>\n",
       "      <td>10</td>\n",
       "      <td>New customer</td>\n",
       "      <td>6.37</td>\n",
       "      <td>Low spender</td>\n",
       "      <td>20.00</td>\n",
       "      <td>Regular customer</td>\n",
       "    </tr>\n",
       "    <tr>\n",
       "      <th>3</th>\n",
       "      <td>2539329</td>\n",
       "      <td>1</td>\n",
       "      <td>1</td>\n",
       "      <td>2</td>\n",
       "      <td>8</td>\n",
       "      <td>0.00</td>\n",
       "      <td>26088</td>\n",
       "      <td>4</td>\n",
       "      <td>0</td>\n",
       "      <td>Aged White Cheddar Popcorn</td>\n",
       "      <td>...</td>\n",
       "      <td>Low-range product</td>\n",
       "      <td>Regularly busy</td>\n",
       "      <td>Regular days</td>\n",
       "      <td>Average orders</td>\n",
       "      <td>10</td>\n",
       "      <td>New customer</td>\n",
       "      <td>6.37</td>\n",
       "      <td>Low spender</td>\n",
       "      <td>20.00</td>\n",
       "      <td>Regular customer</td>\n",
       "    </tr>\n",
       "    <tr>\n",
       "      <th>4</th>\n",
       "      <td>2539329</td>\n",
       "      <td>1</td>\n",
       "      <td>1</td>\n",
       "      <td>2</td>\n",
       "      <td>8</td>\n",
       "      <td>0.00</td>\n",
       "      <td>26405</td>\n",
       "      <td>5</td>\n",
       "      <td>0</td>\n",
       "      <td>XL Pick-A-Size Paper Towel Rolls</td>\n",
       "      <td>...</td>\n",
       "      <td>Low-range product</td>\n",
       "      <td>Regularly busy</td>\n",
       "      <td>Regular days</td>\n",
       "      <td>Average orders</td>\n",
       "      <td>10</td>\n",
       "      <td>New customer</td>\n",
       "      <td>6.37</td>\n",
       "      <td>Low spender</td>\n",
       "      <td>20.00</td>\n",
       "      <td>Regular customer</td>\n",
       "    </tr>\n",
       "    <tr>\n",
       "      <th>5</th>\n",
       "      <td>2398795</td>\n",
       "      <td>1</td>\n",
       "      <td>2</td>\n",
       "      <td>3</td>\n",
       "      <td>7</td>\n",
       "      <td>15.00</td>\n",
       "      <td>196</td>\n",
       "      <td>1</td>\n",
       "      <td>1</td>\n",
       "      <td>Soda</td>\n",
       "      <td>...</td>\n",
       "      <td>Mid-range product</td>\n",
       "      <td>Regularly busy</td>\n",
       "      <td>slowest days</td>\n",
       "      <td>Average orders</td>\n",
       "      <td>10</td>\n",
       "      <td>New customer</td>\n",
       "      <td>6.37</td>\n",
       "      <td>Low spender</td>\n",
       "      <td>20.00</td>\n",
       "      <td>Regular customer</td>\n",
       "    </tr>\n",
       "    <tr>\n",
       "      <th>6</th>\n",
       "      <td>2398795</td>\n",
       "      <td>1</td>\n",
       "      <td>2</td>\n",
       "      <td>3</td>\n",
       "      <td>7</td>\n",
       "      <td>15.00</td>\n",
       "      <td>10258</td>\n",
       "      <td>2</td>\n",
       "      <td>0</td>\n",
       "      <td>Pistachios</td>\n",
       "      <td>...</td>\n",
       "      <td>Low-range product</td>\n",
       "      <td>Regularly busy</td>\n",
       "      <td>slowest days</td>\n",
       "      <td>Average orders</td>\n",
       "      <td>10</td>\n",
       "      <td>New customer</td>\n",
       "      <td>6.37</td>\n",
       "      <td>Low spender</td>\n",
       "      <td>20.00</td>\n",
       "      <td>Regular customer</td>\n",
       "    </tr>\n",
       "    <tr>\n",
       "      <th>7</th>\n",
       "      <td>2398795</td>\n",
       "      <td>1</td>\n",
       "      <td>2</td>\n",
       "      <td>3</td>\n",
       "      <td>7</td>\n",
       "      <td>15.00</td>\n",
       "      <td>12427</td>\n",
       "      <td>3</td>\n",
       "      <td>1</td>\n",
       "      <td>Original Beef Jerky</td>\n",
       "      <td>...</td>\n",
       "      <td>Low-range product</td>\n",
       "      <td>Regularly busy</td>\n",
       "      <td>slowest days</td>\n",
       "      <td>Average orders</td>\n",
       "      <td>10</td>\n",
       "      <td>New customer</td>\n",
       "      <td>6.37</td>\n",
       "      <td>Low spender</td>\n",
       "      <td>20.00</td>\n",
       "      <td>Regular customer</td>\n",
       "    </tr>\n",
       "    <tr>\n",
       "      <th>8</th>\n",
       "      <td>2398795</td>\n",
       "      <td>1</td>\n",
       "      <td>2</td>\n",
       "      <td>3</td>\n",
       "      <td>7</td>\n",
       "      <td>15.00</td>\n",
       "      <td>13176</td>\n",
       "      <td>4</td>\n",
       "      <td>0</td>\n",
       "      <td>Bag of Organic Bananas</td>\n",
       "      <td>...</td>\n",
       "      <td>Mid-range product</td>\n",
       "      <td>Regularly busy</td>\n",
       "      <td>slowest days</td>\n",
       "      <td>Average orders</td>\n",
       "      <td>10</td>\n",
       "      <td>New customer</td>\n",
       "      <td>6.37</td>\n",
       "      <td>Low spender</td>\n",
       "      <td>20.00</td>\n",
       "      <td>Regular customer</td>\n",
       "    </tr>\n",
       "    <tr>\n",
       "      <th>9</th>\n",
       "      <td>2398795</td>\n",
       "      <td>1</td>\n",
       "      <td>2</td>\n",
       "      <td>3</td>\n",
       "      <td>7</td>\n",
       "      <td>15.00</td>\n",
       "      <td>26088</td>\n",
       "      <td>5</td>\n",
       "      <td>1</td>\n",
       "      <td>Aged White Cheddar Popcorn</td>\n",
       "      <td>...</td>\n",
       "      <td>Low-range product</td>\n",
       "      <td>Regularly busy</td>\n",
       "      <td>slowest days</td>\n",
       "      <td>Average orders</td>\n",
       "      <td>10</td>\n",
       "      <td>New customer</td>\n",
       "      <td>6.37</td>\n",
       "      <td>Low spender</td>\n",
       "      <td>20.00</td>\n",
       "      <td>Regular customer</td>\n",
       "    </tr>\n",
       "  </tbody>\n",
       "</table>\n",
       "<p>10 rows × 23 columns</p>\n",
       "</div>"
      ],
      "text/plain": [
       "   order_id  user_id  order_number  orders_day_of_week  order_hour_of_day  \\\n",
       "0   2539329        1             1                   2                  8   \n",
       "1   2539329        1             1                   2                  8   \n",
       "2   2539329        1             1                   2                  8   \n",
       "3   2539329        1             1                   2                  8   \n",
       "4   2539329        1             1                   2                  8   \n",
       "5   2398795        1             2                   3                  7   \n",
       "6   2398795        1             2                   3                  7   \n",
       "7   2398795        1             2                   3                  7   \n",
       "8   2398795        1             2                   3                  7   \n",
       "9   2398795        1             2                   3                  7   \n",
       "\n",
       "   days_since_prior_order  product_id  add_to_cart_order  reordered  \\\n",
       "0                    0.00         196                  1          0   \n",
       "1                    0.00       14084                  2          0   \n",
       "2                    0.00       12427                  3          0   \n",
       "3                    0.00       26088                  4          0   \n",
       "4                    0.00       26405                  5          0   \n",
       "5                   15.00         196                  1          1   \n",
       "6                   15.00       10258                  2          0   \n",
       "7                   15.00       12427                  3          1   \n",
       "8                   15.00       13176                  4          0   \n",
       "9                   15.00       26088                  5          1   \n",
       "\n",
       "                              product_name  ...        price_label  \\\n",
       "0                                     Soda  ...  Mid-range product   \n",
       "1  Organic Unsweetened Vanilla Almond Milk  ...  Mid-range product   \n",
       "2                      Original Beef Jerky  ...  Low-range product   \n",
       "3               Aged White Cheddar Popcorn  ...  Low-range product   \n",
       "4         XL Pick-A-Size Paper Towel Rolls  ...  Low-range product   \n",
       "5                                     Soda  ...  Mid-range product   \n",
       "6                               Pistachios  ...  Low-range product   \n",
       "7                      Original Beef Jerky  ...  Low-range product   \n",
       "8                   Bag of Organic Bananas  ...  Mid-range product   \n",
       "9               Aged White Cheddar Popcorn  ...  Low-range product   \n",
       "\n",
       "      busiest_day  busy_days_of_the_week busiest_period_of_day max_order  \\\n",
       "0  Regularly busy           Regular days        Average orders        10   \n",
       "1  Regularly busy           Regular days        Average orders        10   \n",
       "2  Regularly busy           Regular days        Average orders        10   \n",
       "3  Regularly busy           Regular days        Average orders        10   \n",
       "4  Regularly busy           Regular days        Average orders        10   \n",
       "5  Regularly busy           slowest days        Average orders        10   \n",
       "6  Regularly busy           slowest days        Average orders        10   \n",
       "7  Regularly busy           slowest days        Average orders        10   \n",
       "8  Regularly busy           slowest days        Average orders        10   \n",
       "9  Regularly busy           slowest days        Average orders        10   \n",
       "\n",
       "   loyalty_flag max_product_orders  spending_flag median_of_frequency  \\\n",
       "0  New customer               6.37    Low spender               20.00   \n",
       "1  New customer               6.37    Low spender               20.00   \n",
       "2  New customer               6.37    Low spender               20.00   \n",
       "3  New customer               6.37    Low spender               20.00   \n",
       "4  New customer               6.37    Low spender               20.00   \n",
       "5  New customer               6.37    Low spender               20.00   \n",
       "6  New customer               6.37    Low spender               20.00   \n",
       "7  New customer               6.37    Low spender               20.00   \n",
       "8  New customer               6.37    Low spender               20.00   \n",
       "9  New customer               6.37    Low spender               20.00   \n",
       "\n",
       "     frequency_flag  \n",
       "0  Regular customer  \n",
       "1  Regular customer  \n",
       "2  Regular customer  \n",
       "3  Regular customer  \n",
       "4  Regular customer  \n",
       "5  Regular customer  \n",
       "6  Regular customer  \n",
       "7  Regular customer  \n",
       "8  Regular customer  \n",
       "9  Regular customer  \n",
       "\n",
       "[10 rows x 23 columns]"
      ]
     },
     "execution_count": 3,
     "metadata": {},
     "output_type": "execute_result"
    }
   ],
   "source": [
    "\n",
    "    \n",
    "print(color.BLUE + 'Read orders_products_classified.pkl file' + color.END)\n",
    "\n",
    "path = r'C:\\\\Users\\\\mutta\\\\Documents\\\\Project 4\\\\' \n",
    "\n",
    "\n",
    "ords_prods_merged_pkl = os.path.join(path, '02 Data', 'Prepared Data', 'orders_products_grouped.pkl')\n",
    "\n",
    "df_ords_prods_merged  = pd.read_pickle(ords_prods_merged_pkl)\n",
    "\n",
    "\n",
    "df_ords_prods_merged.head(10)\n",
    "\n",
    "\n"
   ]
  },
  {
   "cell_type": "markdown",
   "id": "6657ddc8",
   "metadata": {},
   "source": [
    "###### Read Customer data"
   ]
  },
  {
   "cell_type": "code",
   "execution_count": 7,
   "id": "efe6058a",
   "metadata": {
    "scrolled": true
   },
   "outputs": [
    {
     "data": {
      "text/html": [
       "<div>\n",
       "<style scoped>\n",
       "    .dataframe tbody tr th:only-of-type {\n",
       "        vertical-align: middle;\n",
       "    }\n",
       "\n",
       "    .dataframe tbody tr th {\n",
       "        vertical-align: top;\n",
       "    }\n",
       "\n",
       "    .dataframe thead th {\n",
       "        text-align: right;\n",
       "    }\n",
       "</style>\n",
       "<table border=\"1\" class=\"dataframe\">\n",
       "  <thead>\n",
       "    <tr style=\"text-align: right;\">\n",
       "      <th></th>\n",
       "      <th>user_id</th>\n",
       "      <th>Age</th>\n",
       "      <th>n_dependants</th>\n",
       "      <th>income</th>\n",
       "    </tr>\n",
       "  </thead>\n",
       "  <tbody>\n",
       "    <tr>\n",
       "      <th>count</th>\n",
       "      <td>206209.00</td>\n",
       "      <td>206209.00</td>\n",
       "      <td>206209.00</td>\n",
       "      <td>206209.00</td>\n",
       "    </tr>\n",
       "    <tr>\n",
       "      <th>mean</th>\n",
       "      <td>103105.00</td>\n",
       "      <td>49.50</td>\n",
       "      <td>1.50</td>\n",
       "      <td>94632.85</td>\n",
       "    </tr>\n",
       "    <tr>\n",
       "      <th>std</th>\n",
       "      <td>59527.56</td>\n",
       "      <td>18.48</td>\n",
       "      <td>1.12</td>\n",
       "      <td>42473.79</td>\n",
       "    </tr>\n",
       "    <tr>\n",
       "      <th>min</th>\n",
       "      <td>1.00</td>\n",
       "      <td>18.00</td>\n",
       "      <td>0.00</td>\n",
       "      <td>25903.00</td>\n",
       "    </tr>\n",
       "    <tr>\n",
       "      <th>25%</th>\n",
       "      <td>51553.00</td>\n",
       "      <td>33.00</td>\n",
       "      <td>0.00</td>\n",
       "      <td>59874.00</td>\n",
       "    </tr>\n",
       "    <tr>\n",
       "      <th>50%</th>\n",
       "      <td>103105.00</td>\n",
       "      <td>49.00</td>\n",
       "      <td>1.00</td>\n",
       "      <td>93547.00</td>\n",
       "    </tr>\n",
       "    <tr>\n",
       "      <th>75%</th>\n",
       "      <td>154657.00</td>\n",
       "      <td>66.00</td>\n",
       "      <td>3.00</td>\n",
       "      <td>124244.00</td>\n",
       "    </tr>\n",
       "    <tr>\n",
       "      <th>max</th>\n",
       "      <td>206209.00</td>\n",
       "      <td>81.00</td>\n",
       "      <td>3.00</td>\n",
       "      <td>593901.00</td>\n",
       "    </tr>\n",
       "  </tbody>\n",
       "</table>\n",
       "</div>"
      ],
      "text/plain": [
       "        user_id       Age  n_dependants    income\n",
       "count 206209.00 206209.00     206209.00 206209.00\n",
       "mean  103105.00     49.50          1.50  94632.85\n",
       "std    59527.56     18.48          1.12  42473.79\n",
       "min        1.00     18.00          0.00  25903.00\n",
       "25%    51553.00     33.00          0.00  59874.00\n",
       "50%   103105.00     49.00          1.00  93547.00\n",
       "75%   154657.00     66.00          3.00 124244.00\n",
       "max   206209.00     81.00          3.00 593901.00"
      ]
     },
     "execution_count": 7,
     "metadata": {},
     "output_type": "execute_result"
    }
   ],
   "source": [
    "\n",
    "customer_csv = os.path.join(path, '02 Data', 'Original Data', '4.9_customers', 'customers.csv')\n",
    "\n",
    "df_customer_csv  = pd.read_csv(customer_csv, index_col = False)\n",
    "\n",
    "df_customer_csv.describe()\n"
   ]
  },
  {
   "cell_type": "code",
   "execution_count": 5,
   "id": "e38c331f",
   "metadata": {},
   "outputs": [
    {
     "data": {
      "text/plain": [
       "(206209, 10)"
      ]
     },
     "execution_count": 5,
     "metadata": {},
     "output_type": "execute_result"
    }
   ],
   "source": [
    "df_customer_csv.shape"
   ]
  },
  {
   "cell_type": "code",
   "execution_count": 9,
   "id": "228a2e57",
   "metadata": {},
   "outputs": [
    {
     "name": "stdout",
     "output_type": "stream",
     "text": [
      "user_id             0\n",
      "First Name      11259\n",
      "Surnam              0\n",
      "Gender              0\n",
      "STATE               0\n",
      "Age                 0\n",
      "date_joined         0\n",
      "n_dependants        0\n",
      "fam_status          0\n",
      "income              0\n",
      "dtype: int64\n",
      "Empty DataFrame\n",
      "Columns: [user_id, First Name, Surnam, Gender, STATE, Age, date_joined, n_dependants, fam_status, income]\n",
      "Index: []\n",
      "Empty DataFrame\n",
      "Columns: [user_id, First Name, Surnam, Gender, STATE, Age, date_joined, n_dependants, fam_status, income]\n",
      "Index: []\n"
     ]
    }
   ],
   "source": [
    "print(df_customer_csv.isnull().sum())\n",
    "\n",
    "df_customer_dups = df_customer_csv[df_customer_csv.duplicated()]\n",
    "print(df_customer_dups)\n",
    "\n",
    "df_customer_dups = df_customer_csv[df_customer_csv['user_id'].duplicated()]\n",
    "print(df_customer_dups)"
   ]
  },
  {
   "cell_type": "code",
   "execution_count": 8,
   "id": "687e2a39",
   "metadata": {
    "scrolled": true
   },
   "outputs": [
    {
     "data": {
      "text/plain": [
       "Index(['user_id', 'First Name', 'Surnam', 'Gender', 'STATE', 'Age',\n",
       "       'date_joined', 'n_dependants', 'fam_status', 'income'],\n",
       "      dtype='object')"
      ]
     },
     "execution_count": 8,
     "metadata": {},
     "output_type": "execute_result"
    }
   ],
   "source": [
    "df_customer_csv.columns"
   ]
  },
  {
   "cell_type": "code",
   "execution_count": 9,
   "id": "d305dc9e",
   "metadata": {},
   "outputs": [
    {
     "data": {
      "text/html": [
       "<div>\n",
       "<style scoped>\n",
       "    .dataframe tbody tr th:only-of-type {\n",
       "        vertical-align: middle;\n",
       "    }\n",
       "\n",
       "    .dataframe tbody tr th {\n",
       "        vertical-align: top;\n",
       "    }\n",
       "\n",
       "    .dataframe thead th {\n",
       "        text-align: right;\n",
       "    }\n",
       "</style>\n",
       "<table border=\"1\" class=\"dataframe\">\n",
       "  <thead>\n",
       "    <tr style=\"text-align: right;\">\n",
       "      <th></th>\n",
       "      <th>user_id</th>\n",
       "      <th>First Name</th>\n",
       "      <th>Surnam</th>\n",
       "      <th>Gender</th>\n",
       "      <th>STATE</th>\n",
       "      <th>Age</th>\n",
       "      <th>date_joined</th>\n",
       "      <th>n_dependants</th>\n",
       "      <th>fam_status</th>\n",
       "      <th>income</th>\n",
       "    </tr>\n",
       "  </thead>\n",
       "  <tbody>\n",
       "    <tr>\n",
       "      <th>0</th>\n",
       "      <td>26711</td>\n",
       "      <td>Deborah</td>\n",
       "      <td>Esquivel</td>\n",
       "      <td>Female</td>\n",
       "      <td>Missouri</td>\n",
       "      <td>48</td>\n",
       "      <td>1/1/2017</td>\n",
       "      <td>3</td>\n",
       "      <td>married</td>\n",
       "      <td>165665</td>\n",
       "    </tr>\n",
       "    <tr>\n",
       "      <th>1</th>\n",
       "      <td>33890</td>\n",
       "      <td>Patricia</td>\n",
       "      <td>Hart</td>\n",
       "      <td>Female</td>\n",
       "      <td>New Mexico</td>\n",
       "      <td>36</td>\n",
       "      <td>1/1/2017</td>\n",
       "      <td>0</td>\n",
       "      <td>single</td>\n",
       "      <td>59285</td>\n",
       "    </tr>\n",
       "    <tr>\n",
       "      <th>2</th>\n",
       "      <td>65803</td>\n",
       "      <td>Kenneth</td>\n",
       "      <td>Farley</td>\n",
       "      <td>Male</td>\n",
       "      <td>Idaho</td>\n",
       "      <td>35</td>\n",
       "      <td>1/1/2017</td>\n",
       "      <td>2</td>\n",
       "      <td>married</td>\n",
       "      <td>99568</td>\n",
       "    </tr>\n",
       "    <tr>\n",
       "      <th>3</th>\n",
       "      <td>125935</td>\n",
       "      <td>Michelle</td>\n",
       "      <td>Hicks</td>\n",
       "      <td>Female</td>\n",
       "      <td>Iowa</td>\n",
       "      <td>40</td>\n",
       "      <td>1/1/2017</td>\n",
       "      <td>0</td>\n",
       "      <td>single</td>\n",
       "      <td>42049</td>\n",
       "    </tr>\n",
       "    <tr>\n",
       "      <th>4</th>\n",
       "      <td>130797</td>\n",
       "      <td>Ann</td>\n",
       "      <td>Gilmore</td>\n",
       "      <td>Female</td>\n",
       "      <td>Maryland</td>\n",
       "      <td>26</td>\n",
       "      <td>1/1/2017</td>\n",
       "      <td>1</td>\n",
       "      <td>married</td>\n",
       "      <td>40374</td>\n",
       "    </tr>\n",
       "    <tr>\n",
       "      <th>5</th>\n",
       "      <td>133128</td>\n",
       "      <td>Cynthia</td>\n",
       "      <td>Noble</td>\n",
       "      <td>Female</td>\n",
       "      <td>Kentucky</td>\n",
       "      <td>43</td>\n",
       "      <td>1/1/2017</td>\n",
       "      <td>2</td>\n",
       "      <td>married</td>\n",
       "      <td>49643</td>\n",
       "    </tr>\n",
       "    <tr>\n",
       "      <th>6</th>\n",
       "      <td>152052</td>\n",
       "      <td>Chris</td>\n",
       "      <td>Walton</td>\n",
       "      <td>Male</td>\n",
       "      <td>Montana</td>\n",
       "      <td>20</td>\n",
       "      <td>1/1/2017</td>\n",
       "      <td>0</td>\n",
       "      <td>single</td>\n",
       "      <td>61746</td>\n",
       "    </tr>\n",
       "    <tr>\n",
       "      <th>7</th>\n",
       "      <td>168851</td>\n",
       "      <td>Joseph</td>\n",
       "      <td>Hickman</td>\n",
       "      <td>Male</td>\n",
       "      <td>South Carolina</td>\n",
       "      <td>30</td>\n",
       "      <td>1/1/2017</td>\n",
       "      <td>0</td>\n",
       "      <td>single</td>\n",
       "      <td>63712</td>\n",
       "    </tr>\n",
       "    <tr>\n",
       "      <th>8</th>\n",
       "      <td>69965</td>\n",
       "      <td>Jeremy</td>\n",
       "      <td>Vang</td>\n",
       "      <td>Male</td>\n",
       "      <td>Texas</td>\n",
       "      <td>47</td>\n",
       "      <td>1/1/2017</td>\n",
       "      <td>1</td>\n",
       "      <td>married</td>\n",
       "      <td>162432</td>\n",
       "    </tr>\n",
       "    <tr>\n",
       "      <th>9</th>\n",
       "      <td>82820</td>\n",
       "      <td>Shawn</td>\n",
       "      <td>Chung</td>\n",
       "      <td>Male</td>\n",
       "      <td>Virginia</td>\n",
       "      <td>26</td>\n",
       "      <td>1/1/2017</td>\n",
       "      <td>2</td>\n",
       "      <td>married</td>\n",
       "      <td>32072</td>\n",
       "    </tr>\n",
       "  </tbody>\n",
       "</table>\n",
       "</div>"
      ],
      "text/plain": [
       "   user_id First Name    Surnam  Gender           STATE  Age date_joined  \\\n",
       "0    26711    Deborah  Esquivel  Female        Missouri   48    1/1/2017   \n",
       "1    33890   Patricia      Hart  Female      New Mexico   36    1/1/2017   \n",
       "2    65803    Kenneth    Farley    Male           Idaho   35    1/1/2017   \n",
       "3   125935   Michelle     Hicks  Female            Iowa   40    1/1/2017   \n",
       "4   130797        Ann   Gilmore  Female        Maryland   26    1/1/2017   \n",
       "5   133128    Cynthia     Noble  Female        Kentucky   43    1/1/2017   \n",
       "6   152052      Chris    Walton    Male         Montana   20    1/1/2017   \n",
       "7   168851     Joseph   Hickman    Male  South Carolina   30    1/1/2017   \n",
       "8    69965     Jeremy      Vang    Male           Texas   47    1/1/2017   \n",
       "9    82820      Shawn     Chung    Male        Virginia   26    1/1/2017   \n",
       "\n",
       "   n_dependants fam_status  income  \n",
       "0             3    married  165665  \n",
       "1             0     single   59285  \n",
       "2             2    married   99568  \n",
       "3             0     single   42049  \n",
       "4             1    married   40374  \n",
       "5             2    married   49643  \n",
       "6             0     single   61746  \n",
       "7             0     single   63712  \n",
       "8             1    married  162432  \n",
       "9             2    married   32072  "
      ]
     },
     "execution_count": 9,
     "metadata": {},
     "output_type": "execute_result"
    }
   ],
   "source": [
    "df_customer_csv.head(10)"
   ]
  },
  {
   "cell_type": "markdown",
   "id": "319259d7",
   "metadata": {},
   "source": [
    "## Data Wrangling "
   ]
  },
  {
   "cell_type": "markdown",
   "id": "d61f7db8",
   "metadata": {},
   "source": [
    "#### Dropping columns from df_ords_prods_merged"
   ]
  },
  {
   "cell_type": "code",
   "execution_count": 10,
   "id": "ee5024b8",
   "metadata": {
    "scrolled": true
   },
   "outputs": [
    {
     "data": {
      "text/plain": [
       "Index(['order_id', 'user_id', 'order_number', 'orders_day_of_week',\n",
       "       'order_hour_of_day', 'days_since_prior_order', 'product_id',\n",
       "       'add_to_cart_order', 'reordered', 'product_name', 'aisle_id',\n",
       "       'department_id', 'prices', 'price_label', 'busiest_day',\n",
       "       'busy_days_of_the_week', 'busiest_period_of_day', 'max_order',\n",
       "       'loyalty_flag', 'max_product_orders', 'spending_flag',\n",
       "       'median_of_frequency', 'frequency_flag'],\n",
       "      dtype='object')"
      ]
     },
     "execution_count": 10,
     "metadata": {},
     "output_type": "execute_result"
    }
   ],
   "source": [
    "df_ords_prods_merged.columns"
   ]
  },
  {
   "cell_type": "code",
   "execution_count": 16,
   "id": "1435b742",
   "metadata": {},
   "outputs": [],
   "source": [
    "df_ords_prods_merged = df_ords_prods_merged.drop(columns = ['max_order', 'max_product_orders', 'median_of_frequency', 'busiest_day'])"
   ]
  },
  {
   "cell_type": "code",
   "execution_count": 17,
   "id": "c2433b00",
   "metadata": {
    "scrolled": true
   },
   "outputs": [
    {
     "data": {
      "text/plain": [
       "Index(['order_id', 'user_id', 'order_number', 'orders_day_of_week',\n",
       "       'order_hour_of_day', 'days_since_prior_order', 'product_id',\n",
       "       'add_to_cart_order', 'reordered', 'product_name', 'aisle_id',\n",
       "       'department_id', 'prices', 'price_label', 'busy_days_of_the_week',\n",
       "       'busiest_period_of_day', 'loyalty_flag', 'spending_flag',\n",
       "       'frequency_flag'],\n",
       "      dtype='object')"
      ]
     },
     "execution_count": 17,
     "metadata": {},
     "output_type": "execute_result"
    }
   ],
   "source": [
    "df_ords_prods_merged.columns"
   ]
  },
  {
   "cell_type": "markdown",
   "id": "b9d26ebb",
   "metadata": {},
   "source": [
    "#### Renaming columns customer_csv"
   ]
  },
  {
   "cell_type": "code",
   "execution_count": 18,
   "id": "4b1a1625",
   "metadata": {
    "scrolled": true
   },
   "outputs": [
    {
     "data": {
      "text/plain": [
       "Index(['user_id', 'First Name', 'Surnam', 'Gender', 'STATE', 'Age',\n",
       "       'date_joined', 'n_dependants', 'fam_status', 'income'],\n",
       "      dtype='object')"
      ]
     },
     "execution_count": 18,
     "metadata": {},
     "output_type": "execute_result"
    }
   ],
   "source": [
    "print(df_customer_csv.columns)\n",
    "\n",
    "df_customer_csv.rename(columns = {'Surnam' : 'last_name',\n",
    "                                  'STATE' : 'state',\n",
    "                                  'n_dependants' : 'no_of_dependents',\n",
    "                                  'fam_status' : 'marital_status',\n",
    "                                  'Gender' : 'gender',\n",
    "                                  'Age' : 'age',\n",
    "                                  'First Name' : 'first_name'\n",
    "                                 }, inplace = True)\n",
    "\n",
    "print(df_customer_csv.columns)"
   ]
  },
  {
   "cell_type": "markdown",
   "id": "b2052946",
   "metadata": {},
   "source": [
    "#### Changing data types"
   ]
  },
  {
   "cell_type": "code",
   "execution_count": 30,
   "id": "b8733835",
   "metadata": {},
   "outputs": [],
   "source": [
    "print(df_customer_csv.dtypes)\n",
    "\n",
    "df_customer_csv['user_id'] = df_customer_csv['user_id'].astype('str')\n",
    "df_customer_csv['first_name'] = df_customer_csv['first_name'].astype('str')\n",
    "df_customer_csv['last_name'] = df_customer_csv['last_name'].astype('str')\n",
    "df_customer_csv['gender'] = df_customer_csv['gender'].astype('str')\n",
    "df_customer_csv['state'] = df_customer_csv['state'].astype('str')\n",
    "df_customer_csv['marital_status'] = df_customer_csv['marital_status'].astype('str')\n",
    "df_customer_csv['date_joined'] = df_customer_csv['date_joined'].astype('datetime64[ns]')\n",
    "\n",
    "print(df_customer_csv.dtypes)\n"
   ]
  },
  {
   "cell_type": "code",
   "execution_count": 33,
   "id": "c2cc3193",
   "metadata": {
    "scrolled": true
   },
   "outputs": [
    {
     "name": "stdout",
     "output_type": "stream",
     "text": [
      "order_id                    int64\n",
      "user_id                     int64\n",
      "order_number                int64\n",
      "orders_day_of_week          int64\n",
      "order_hour_of_day           int64\n",
      "days_since_prior_order    float64\n",
      "product_id                  int64\n",
      "add_to_cart_order           int64\n",
      "reordered                   int64\n",
      "product_name               object\n",
      "aisle_id                  float64\n",
      "department_id             float64\n",
      "prices                    float64\n",
      "price_label                object\n",
      "busy_days_of_the_week      object\n",
      "busiest_period_of_day      object\n",
      "loyalty_flag               object\n",
      "spending_flag              object\n",
      "frequency_flag             object\n",
      "dtype: object\n",
      "order_id                   object\n",
      "user_id                    object\n",
      "order_number                int64\n",
      "orders_day_of_week          int64\n",
      "order_hour_of_day           int64\n",
      "days_since_prior_order    float64\n",
      "product_id                 object\n",
      "add_to_cart_order           int64\n",
      "reordered                   int64\n",
      "product_name               object\n",
      "aisle_id                   object\n",
      "department_id              object\n",
      "prices                    float64\n",
      "price_label                object\n",
      "busy_days_of_the_week      object\n",
      "busiest_period_of_day      object\n",
      "loyalty_flag               object\n",
      "spending_flag              object\n",
      "frequency_flag             object\n",
      "dtype: object\n"
     ]
    }
   ],
   "source": [
    "print(df_ords_prods_merged.dtypes)\n",
    "\n",
    "print('Change data types')\n",
    "\n",
    "df_ords_prods_merged['order_id'] = df_ords_prods_merged['order_id'].astype('str')\n",
    "df_ords_prods_merged['user_id'] = df_ords_prods_merged['user_id'].astype('str')\n",
    "df_ords_prods_merged['product_id'] = df_ords_prods_merged['product_id'].astype('str')\n",
    "df_ords_prods_merged['aisle_id'] = df_ords_prods_merged['aisle_id'].astype('str')\n",
    "df_ords_prods_merged['department_id'] = df_ords_prods_merged['department_id'].astype('str')\n",
    "\n",
    "print('After changes in data types')\n",
    "\n",
    "print(df_ords_prods_merged.dtypes)"
   ]
  },
  {
   "cell_type": "markdown",
   "id": "25c30385",
   "metadata": {},
   "source": [
    "## Consistency checks "
   ]
  },
  {
   "cell_type": "markdown",
   "id": "fb929716",
   "metadata": {},
   "source": [
    "#### Finding and addressing mixed data types"
   ]
  },
  {
   "cell_type": "code",
   "execution_count": 35,
   "id": "07d926ac",
   "metadata": {},
   "outputs": [],
   "source": [
    "def validate_mixed_type_check(df):\n",
    "    mixed_col_count = 0\n",
    "    for col in df.columns.tolist():\n",
    "      weird = (df[[col]].applymap(type) != df[[col]].iloc[0].apply(type)).any(axis = 1)\n",
    "      if len (df[weird]) > 0:\n",
    "        print (color.RED + 'Column', col, ' contains mixed type values' + color.END)\n",
    "        mixed_col_count = mixed_col_count + 1\n",
    "      else:\n",
    "        print('Column', col ,'  contains same data type values')\n",
    "\n",
    "    print(color.BOLD +'\\n\\n### Total number mixed data type column :', mixed_col_count, '###'+ color.END)\n"
   ]
  },
  {
   "cell_type": "code",
   "execution_count": 36,
   "id": "33d00de2",
   "metadata": {},
   "outputs": [
    {
     "name": "stdout",
     "output_type": "stream",
     "text": [
      "Column user_id   contains same data type values\n",
      "Column First Name   contains same data type values\n",
      "Column last_name   contains same data type values\n",
      "Column gender   contains same data type values\n",
      "Column state   contains same data type values\n",
      "Column age   contains same data type values\n",
      "Column date_joined   contains same data type values\n",
      "Column no_of_dependents   contains same data type values\n",
      "Column marital_status   contains same data type values\n",
      "Column income   contains same data type values\n",
      "\u001b[1m### Total number mixed data type column : 0 ###\u001b[0m\n"
     ]
    }
   ],
   "source": [
    "validate_mixed_type_check(df_customer_csv)"
   ]
  },
  {
   "cell_type": "markdown",
   "id": "e552abf1",
   "metadata": {},
   "source": [
    "#### Finding and addressing missing values"
   ]
  },
  {
   "cell_type": "code",
   "execution_count": 38,
   "id": "7cd44a0a",
   "metadata": {},
   "outputs": [
    {
     "data": {
      "text/plain": [
       "order_id                      0\n",
       "user_id                       0\n",
       "order_number                  0\n",
       "orders_day_of_week            0\n",
       "order_hour_of_day             0\n",
       "days_since_prior_order        0\n",
       "product_id                    0\n",
       "add_to_cart_order             0\n",
       "reordered                     0\n",
       "product_name              30200\n",
       "aisle_id                      0\n",
       "department_id                 0\n",
       "prices                    30200\n",
       "price_label               30200\n",
       "busy_days_of_the_week         0\n",
       "busiest_period_of_day         0\n",
       "loyalty_flag                  0\n",
       "spending_flag                 0\n",
       "frequency_flag                0\n",
       "dtype: int64"
      ]
     },
     "execution_count": 38,
     "metadata": {},
     "output_type": "execute_result"
    }
   ],
   "source": [
    "df_ords_prods_merged.isnull().sum()"
   ]
  },
  {
   "cell_type": "code",
   "execution_count": 39,
   "id": "1d37095f",
   "metadata": {},
   "outputs": [
    {
     "data": {
      "text/plain": [
       "user_id             0\n",
       "First Name          0\n",
       "last_name           0\n",
       "gender              0\n",
       "state               0\n",
       "age                 0\n",
       "date_joined         0\n",
       "no_of_dependents    0\n",
       "marital_status      0\n",
       "income              0\n",
       "dtype: int64"
      ]
     },
     "execution_count": 39,
     "metadata": {},
     "output_type": "execute_result"
    }
   ],
   "source": [
    "df_customer_csv.isnull().sum()"
   ]
  },
  {
   "cell_type": "markdown",
   "id": "4eeb1eb9",
   "metadata": {},
   "source": [
    "#### Finding and addressing duplicate records"
   ]
  },
  {
   "cell_type": "code",
   "execution_count": 43,
   "id": "e061d51f",
   "metadata": {},
   "outputs": [
    {
     "name": "stdout",
     "output_type": "stream",
     "text": [
      "Find duplicate records\n"
     ]
    },
    {
     "data": {
      "text/html": [
       "<div>\n",
       "<style scoped>\n",
       "    .dataframe tbody tr th:only-of-type {\n",
       "        vertical-align: middle;\n",
       "    }\n",
       "\n",
       "    .dataframe tbody tr th {\n",
       "        vertical-align: top;\n",
       "    }\n",
       "\n",
       "    .dataframe thead th {\n",
       "        text-align: right;\n",
       "    }\n",
       "</style>\n",
       "<table border=\"1\" class=\"dataframe\">\n",
       "  <thead>\n",
       "    <tr style=\"text-align: right;\">\n",
       "      <th></th>\n",
       "      <th>user_id</th>\n",
       "      <th>First Name</th>\n",
       "      <th>last_name</th>\n",
       "      <th>gender</th>\n",
       "      <th>state</th>\n",
       "      <th>age</th>\n",
       "      <th>date_joined</th>\n",
       "      <th>no_of_dependents</th>\n",
       "      <th>marital_status</th>\n",
       "      <th>income</th>\n",
       "    </tr>\n",
       "  </thead>\n",
       "  <tbody>\n",
       "  </tbody>\n",
       "</table>\n",
       "</div>"
      ],
      "text/plain": [
       "Empty DataFrame\n",
       "Columns: [user_id, First Name, last_name, gender, state, age, date_joined, no_of_dependents, marital_status, income]\n",
       "Index: []"
      ]
     },
     "execution_count": 43,
     "metadata": {},
     "output_type": "execute_result"
    }
   ],
   "source": [
    "print('Find duplicate records')\n",
    "\n",
    "df_customer_csv[df_customer_csv.duplicated()]"
   ]
  },
  {
   "cell_type": "code",
   "execution_count": 44,
   "id": "73eddcd0",
   "metadata": {},
   "outputs": [
    {
     "name": "stdout",
     "output_type": "stream",
     "text": [
      "Find duplicate user ids\n"
     ]
    },
    {
     "data": {
      "text/html": [
       "<div>\n",
       "<style scoped>\n",
       "    .dataframe tbody tr th:only-of-type {\n",
       "        vertical-align: middle;\n",
       "    }\n",
       "\n",
       "    .dataframe tbody tr th {\n",
       "        vertical-align: top;\n",
       "    }\n",
       "\n",
       "    .dataframe thead th {\n",
       "        text-align: right;\n",
       "    }\n",
       "</style>\n",
       "<table border=\"1\" class=\"dataframe\">\n",
       "  <thead>\n",
       "    <tr style=\"text-align: right;\">\n",
       "      <th></th>\n",
       "      <th>user_id</th>\n",
       "      <th>First Name</th>\n",
       "      <th>last_name</th>\n",
       "      <th>gender</th>\n",
       "      <th>state</th>\n",
       "      <th>age</th>\n",
       "      <th>date_joined</th>\n",
       "      <th>no_of_dependents</th>\n",
       "      <th>marital_status</th>\n",
       "      <th>income</th>\n",
       "    </tr>\n",
       "  </thead>\n",
       "  <tbody>\n",
       "  </tbody>\n",
       "</table>\n",
       "</div>"
      ],
      "text/plain": [
       "Empty DataFrame\n",
       "Columns: [user_id, First Name, last_name, gender, state, age, date_joined, no_of_dependents, marital_status, income]\n",
       "Index: []"
      ]
     },
     "execution_count": 44,
     "metadata": {},
     "output_type": "execute_result"
    }
   ],
   "source": [
    "print('Find duplicate user ids')\n",
    "\n",
    "df_customer_csv[df_customer_csv['user_id'].duplicated()]"
   ]
  },
  {
   "cell_type": "markdown",
   "id": "d7ad7cb7",
   "metadata": {},
   "source": [
    "## Combining Data with customer information"
   ]
  },
  {
   "cell_type": "code",
   "execution_count": 46,
   "id": "e13a25cb",
   "metadata": {
    "scrolled": true
   },
   "outputs": [
    {
     "data": {
      "text/plain": [
       "201268    3725\n",
       "129928    3638\n",
       "164055    3061\n",
       "186704    2936\n",
       "176478    2921\n",
       "          ... \n",
       "57054        3\n",
       "188979       3\n",
       "119944       3\n",
       "109820       3\n",
       "124119       3\n",
       "Name: user_id, Length: 206209, dtype: int64"
      ]
     },
     "execution_count": 46,
     "metadata": {},
     "output_type": "execute_result"
    }
   ],
   "source": [
    "df_ords_prods_merged['user_id'].value_counts()"
   ]
  },
  {
   "cell_type": "code",
   "execution_count": 47,
   "id": "d081658f",
   "metadata": {},
   "outputs": [
    {
     "data": {
      "text/plain": [
       "26711     1\n",
       "67322     1\n",
       "173044    1\n",
       "61044     1\n",
       "98344     1\n",
       "         ..\n",
       "146847    1\n",
       "154991    1\n",
       "172193    1\n",
       "184326    1\n",
       "80148     1\n",
       "Name: user_id, Length: 206209, dtype: int64"
      ]
     },
     "execution_count": 47,
     "metadata": {},
     "output_type": "execute_result"
    }
   ],
   "source": [
    "df_customer_csv['user_id'].value_counts()"
   ]
  },
  {
   "cell_type": "code",
   "execution_count": 48,
   "id": "d9f8d6fd",
   "metadata": {},
   "outputs": [
    {
     "name": "stdout",
     "output_type": "stream",
     "text": [
      "Merging data set...\n"
     ]
    }
   ],
   "source": [
    "print('Merging data set...')\n",
    "df_ords_prods_merged = df_ords_prods_merged.merge(df_customer_csv, on = 'user_id', indicator = True)\n"
   ]
  },
  {
   "cell_type": "code",
   "execution_count": 49,
   "id": "500f0c54",
   "metadata": {},
   "outputs": [
    {
     "name": "stdout",
     "output_type": "stream",
     "text": [
      "------------------------------------\n",
      "       order_number  orders_day_of_week  order_hour_of_day  \\\n",
      "count   32435059.00         32435059.00        32435059.00   \n",
      "mean          17.14                2.74              13.42   \n",
      "std           17.53                2.09               4.25   \n",
      "min            1.00                0.00               0.00   \n",
      "25%            5.00                1.00              10.00   \n",
      "50%           11.00                3.00              13.00   \n",
      "75%           24.00                5.00              16.00   \n",
      "max           99.00                6.00              23.00   \n",
      "\n",
      "       days_since_prior_order  add_to_cart_order   reordered      prices  \\\n",
      "count             32435059.00        32435059.00 32435059.00 32404859.00   \n",
      "mean                    10.39               8.35        0.59       11.98   \n",
      "std                      8.92               7.13        0.49      495.66   \n",
      "min                      0.00               1.00        0.00        1.00   \n",
      "25%                      4.00               3.00        0.00        4.20   \n",
      "50%                      7.00               6.00        1.00        7.40   \n",
      "75%                     14.00              11.00        1.00       11.30   \n",
      "max                     30.00             145.00        1.00    99999.00   \n",
      "\n",
      "              age  no_of_dependents      income  \n",
      "count 32435059.00       32435059.00 32435059.00  \n",
      "mean        49.47              1.50    99435.50  \n",
      "std         18.49              1.12    43055.40  \n",
      "min         18.00              0.00    25903.00  \n",
      "25%         33.00              1.00    67002.00  \n",
      "50%         49.00              2.00    96612.00  \n",
      "75%         65.00              3.00   127908.00  \n",
      "max         81.00              3.00   593901.00  \n",
      "------------------------------------\n",
      "  order_id user_id  order_number  orders_day_of_week  order_hour_of_day  \\\n",
      "0  2539329       1             1                   2                  8   \n",
      "1  2539329       1             1                   2                  8   \n",
      "2  2539329       1             1                   2                  8   \n",
      "3  2539329       1             1                   2                  8   \n",
      "4  2539329       1             1                   2                  8   \n",
      "5  2398795       1             2                   3                  7   \n",
      "6  2398795       1             2                   3                  7   \n",
      "7  2398795       1             2                   3                  7   \n",
      "8  2398795       1             2                   3                  7   \n",
      "9  2398795       1             2                   3                  7   \n",
      "\n",
      "   days_since_prior_order product_id  add_to_cart_order  reordered  \\\n",
      "0                    0.00        196                  1          0   \n",
      "1                    0.00      14084                  2          0   \n",
      "2                    0.00      12427                  3          0   \n",
      "3                    0.00      26088                  4          0   \n",
      "4                    0.00      26405                  5          0   \n",
      "5                   15.00        196                  1          1   \n",
      "6                   15.00      10258                  2          0   \n",
      "7                   15.00      12427                  3          1   \n",
      "8                   15.00      13176                  4          0   \n",
      "9                   15.00      26088                  5          1   \n",
      "\n",
      "                              product_name  ... First Name last_name  gender  \\\n",
      "0                                     Soda  ...      Linda    Nguyen  Female   \n",
      "1  Organic Unsweetened Vanilla Almond Milk  ...      Linda    Nguyen  Female   \n",
      "2                      Original Beef Jerky  ...      Linda    Nguyen  Female   \n",
      "3               Aged White Cheddar Popcorn  ...      Linda    Nguyen  Female   \n",
      "4         XL Pick-A-Size Paper Towel Rolls  ...      Linda    Nguyen  Female   \n",
      "5                                     Soda  ...      Linda    Nguyen  Female   \n",
      "6                               Pistachios  ...      Linda    Nguyen  Female   \n",
      "7                      Original Beef Jerky  ...      Linda    Nguyen  Female   \n",
      "8                   Bag of Organic Bananas  ...      Linda    Nguyen  Female   \n",
      "9               Aged White Cheddar Popcorn  ...      Linda    Nguyen  Female   \n",
      "\n",
      "     state age date_joined no_of_dependents marital_status income _merge  \n",
      "0  Alabama  31  2019-02-17                3        married  40423   both  \n",
      "1  Alabama  31  2019-02-17                3        married  40423   both  \n",
      "2  Alabama  31  2019-02-17                3        married  40423   both  \n",
      "3  Alabama  31  2019-02-17                3        married  40423   both  \n",
      "4  Alabama  31  2019-02-17                3        married  40423   both  \n",
      "5  Alabama  31  2019-02-17                3        married  40423   both  \n",
      "6  Alabama  31  2019-02-17                3        married  40423   both  \n",
      "7  Alabama  31  2019-02-17                3        married  40423   both  \n",
      "8  Alabama  31  2019-02-17                3        married  40423   both  \n",
      "9  Alabama  31  2019-02-17                3        married  40423   both  \n",
      "\n",
      "[10 rows x 29 columns]\n",
      "------------------------------------\n",
      "both          32435059\n",
      "left_only            0\n",
      "right_only           0\n",
      "Name: _merge, dtype: int64\n",
      "\n",
      "\n",
      "Number of rows in combined order product: 32435059\n",
      "Number of columns in combined order product: 29\n"
     ]
    }
   ],
   "source": [
    "\n",
    "print('------------------------------------')\n",
    "print(df_ords_prods_merged.describe())\n",
    "\n",
    "print('------------------------------------')\n",
    "print(df_ords_prods_merged.head(10))\n",
    "print('------------------------------------')\n",
    "\n",
    "print(df_ords_prods_merged['_merge'].value_counts())\n",
    "\n",
    "print('\\n\\nNumber of rows in combined order, product, customer data:', df_ords_prods_merged.shape[0])\n",
    "print('Number of columns in combined order, product, customer data:', df_ords_prods_merged.shape[1])"
   ]
  },
  {
   "cell_type": "markdown",
   "id": "14f45eff",
   "metadata": {},
   "source": [
    "## Export this new dataframe as a pickle file "
   ]
  },
  {
   "cell_type": "code",
   "execution_count": 50,
   "id": "e5f4d333",
   "metadata": {},
   "outputs": [
    {
     "name": "stdout",
     "output_type": "stream",
     "text": [
      "Saving the dataframe..\n",
      "Data exported successfully\n"
     ]
    }
   ],
   "source": [
    "print('Saving the dataframe..')\n",
    "\n",
    "df_ords_prods_merged.to_pickle(os.path.join(path, '02 Data','Prepared Data', 'orders_products_customer_merged.pkl'))\n",
    "\n",
    "print('Data exported successfully')"
   ]
  },
  {
   "cell_type": "code",
   "execution_count": null,
   "id": "efc69df1",
   "metadata": {},
   "outputs": [],
   "source": []
  }
 ],
 "metadata": {
  "kernelspec": {
   "display_name": "Python 3 (ipykernel)",
   "language": "python",
   "name": "python3"
  },
  "language_info": {
   "codemirror_mode": {
    "name": "ipython",
    "version": 3
   },
   "file_extension": ".py",
   "mimetype": "text/x-python",
   "name": "python",
   "nbconvert_exporter": "python",
   "pygments_lexer": "ipython3",
   "version": "3.10.9"
  }
 },
 "nbformat": 4,
 "nbformat_minor": 5
}
