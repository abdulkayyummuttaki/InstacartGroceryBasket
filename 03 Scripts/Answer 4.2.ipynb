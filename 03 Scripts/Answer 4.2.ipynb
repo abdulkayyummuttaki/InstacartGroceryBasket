{
 "cells": [
  {
   "cell_type": "markdown",
   "id": "e036950e",
   "metadata": {},
   "source": [
    "Import libraries"
   ]
  },
  {
   "cell_type": "code",
   "execution_count": 2,
   "id": "19725716",
   "metadata": {},
   "outputs": [
    {
     "name": "stdout",
     "output_type": "stream",
     "text": [
      "10\n"
     ]
    }
   ],
   "source": [
    "#import librarues\n",
    "import pandas as pd\n",
    "import numpy as np\n",
    "import os\n"
   ]
  },
  {
   "cell_type": "markdown",
   "id": "3e2c9bdf",
   "metadata": {},
   "source": [
    "Working with Python data types"
   ]
  },
  {
   "cell_type": "code",
   "execution_count": 8,
   "id": "4151f7d9",
   "metadata": {},
   "outputs": [
    {
     "name": "stdout",
     "output_type": "stream",
     "text": [
      "result 1: 100\n",
      "result 2: 100\n",
      "result 3: 100\n"
     ]
    }
   ],
   "source": [
    "#Code 3 different ways of reaching a result of 100 by adding or subtracting numeric variables.\n",
    "\n",
    "a = 10\n",
    "b = 80\n",
    "c = 30\n",
    "\n",
    "result1 = a + b + 10\n",
    "\n",
    "result2 = (c * 3) + a\n",
    "\n",
    "result3 = b + c - a\n",
    "\n",
    "\n",
    "print('result 1:',result1)\n",
    "print('result 2:',result2)\n",
    "print('result 3:',result3)\n"
   ]
  },
  {
   "cell_type": "code",
   "execution_count": 9,
   "id": "c597c2e3",
   "metadata": {},
   "outputs": [
    {
     "name": "stdout",
     "output_type": "stream",
     "text": [
      "102.88\n"
     ]
    }
   ],
   "source": [
    "#Code 2 floating-point variables and divide them by each other.\n",
    "total_sum = 1234.56\n",
    "number_of_elements = 12.00\n",
    "\n",
    "average = total_sum / number_of_elements\n",
    "\n",
    "print (average)"
   ]
  },
  {
   "cell_type": "code",
   "execution_count": 21,
   "id": "69685db1",
   "metadata": {},
   "outputs": [
    {
     "name": "stdout",
     "output_type": "stream",
     "text": [
      "Durch die Straßen, Auf und nieder \n",
      " leuchten die Laternen wieder \n",
      " Rote, gelbe, grüne, blaue, \n",
      " lieber Martin, komm und schaue \n",
      "\n",
      "\n",
      "Wie die Blumen in dem Garten \n",
      " blühn Laternen aller Arten \n",
      "Rote, gelbe, grüne, blaue\n"
     ]
    }
   ],
   "source": [
    "#Construct a short word made of separate strings (you’ll need to concatenate some strings!).\n",
    "\n",
    "Paragraph_1 = 'Durch die Straßen, Auf und nieder \\n \\\n",
    "leuchten die Laternen wieder \\n \\\n",
    "Rote, gelbe, grüne, blaue, \\n \\\n",
    "lieber Martin, komm und schaue \\n'\n",
    "\n",
    "Paragraph_2 = 'Wie die Blumen in dem Garten \\n \\\n",
    "blüh''n Laternen aller Arten \\n\\\n",
    "Rote, gelbe, grüne, blaue'\n",
    "\n",
    "song = Paragraph_1 + '\\n\\n' + Paragraph_2\n",
    "\n",
    "\n",
    "print (song)\n"
   ]
  },
  {
   "cell_type": "code",
   "execution_count": 24,
   "id": "f7ec0c43",
   "metadata": {},
   "outputs": [
    {
     "name": "stdout",
     "output_type": "stream",
     "text": [
      "The total sale is \t:1234.56\n",
      "The average sale is \t:102.88\n",
      "\n"
     ]
    }
   ],
   "source": [
    "#Construct 2 short sentences made of separate strings\n",
    "\n",
    "total_sum = 1234.56\n",
    "number_of_elements = 12.00\n",
    "total_sum\n",
    "average = total_sum / number_of_elements\n",
    "\n",
    "string_1 = 'The total sale is \\t:' + str(total_sum) + '\\n'\n",
    "string_2 = 'The average sale is \\t:' + str(average) + '\\n'\n",
    "\n",
    "result = string_1 + string_2\n",
    "\n",
    "print (result)\n"
   ]
  },
  {
   "cell_type": "code",
   "execution_count": null,
   "id": "40c55c18",
   "metadata": {},
   "outputs": [],
   "source": []
  }
 ],
 "metadata": {
  "kernelspec": {
   "display_name": "Python 3 (ipykernel)",
   "language": "python",
   "name": "python3"
  },
  "language_info": {
   "codemirror_mode": {
    "name": "ipython",
    "version": 3
   },
   "file_extension": ".py",
   "mimetype": "text/x-python",
   "name": "python",
   "nbconvert_exporter": "python",
   "pygments_lexer": "ipython3",
   "version": "3.10.9"
  }
 },
 "nbformat": 4,
 "nbformat_minor": 5
}
